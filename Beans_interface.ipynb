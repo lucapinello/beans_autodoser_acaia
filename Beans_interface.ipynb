{
 "cells": [
  {
   "cell_type": "code",
   "execution_count": null,
   "metadata": {
    "collapsed": false
   },
   "outputs": [],
   "source": [
    "!sudo pigpiod"
   ]
  },
  {
   "cell_type": "code",
   "execution_count": 7,
   "metadata": {
    "collapsed": false
   },
   "outputs": [],
   "source": [
    "import sys\n",
    "import time\n",
    "import random\n",
    "import pigpio\n",
    "import numpy as np\n",
    "import touchphat\n",
    "from pyacaia import AcaiaScale\n",
    "\n",
    "GPIO_PIN=15\n",
    "\n",
    "MIN_WIDTH=1000\n",
    "MAX_WIDTH=2000\n",
    "\n",
    "\n",
    "pi = pigpio.pi()\n",
    "\n",
    "\n",
    "#cycle the leds\n",
    "for led in range(1,7):\n",
    "        touchphat.led_on(led)\n",
    "        time.sleep(0.25)\n",
    "        touchphat.led_off(led)\n",
    "\n",
    "\n"
   ]
  },
  {
   "cell_type": "code",
   "execution_count": 8,
   "metadata": {
    "collapsed": false
   },
   "outputs": [
    {
     "data": {
      "text/plain": [
       "0L"
      ]
     },
     "execution_count": 8,
     "metadata": {},
     "output_type": "execute_result"
    }
   ],
   "source": [
    " pi.set_servo_pulsewidth(GPIO_PIN, 1500)"
   ]
  },
  {
   "cell_type": "code",
   "execution_count": 9,
   "metadata": {
    "collapsed": false
   },
   "outputs": [],
   "source": [
    "\n",
    "    \n",
    "\n",
    "#scale.connect()\n",
    "    "
   ]
  },
  {
   "cell_type": "code",
   "execution_count": 10,
   "metadata": {
    "collapsed": false
   },
   "outputs": [],
   "source": [
    "# scale.tare()\n",
    "# #read and print the weight every 0.5 sec for 5 sec \n",
    "# for i in range(10):\n",
    "#     print scale.weight # this is the property we can use to read the weigth in realtime\n",
    "#     time.sleep(0.5)\n",
    "\n"
   ]
  },
  {
   "cell_type": "code",
   "execution_count": 11,
   "metadata": {
    "collapsed": false
   },
   "outputs": [],
   "source": [
    "@touchphat.on_touch(\"Enter\")\n",
    "def start(event):\n",
    "    \n",
    "    print event.name, target_weight\n",
    "    global dispense\n",
    "    dispense=True\n",
    "    touchphat.led_on(\"Enter\")\n",
    "   \n",
    "\n",
    "@touchphat.on_release(\"Enter\")\n",
    "def start_release(event):\n",
    "    print 'release start'\n",
    "    touchphat.led_off(\"Enter\")     \n",
    "    \n",
    "        "
   ]
  },
  {
   "cell_type": "code",
   "execution_count": null,
   "metadata": {
    "collapsed": true
   },
   "outputs": [],
   "source": []
  },
  {
   "cell_type": "code",
   "execution_count": null,
   "metadata": {
    "collapsed": true
   },
   "outputs": [],
   "source": []
  },
  {
   "cell_type": "code",
   "execution_count": 12,
   "metadata": {
    "collapsed": false
   },
   "outputs": [],
   "source": [
    "@touchphat.on_touch(\"Back\")\n",
    "def stop(event):\n",
    "    print event.name\n",
    "    global dispense\n",
    "    dispense=False\n",
    "\n",
    "\n",
    "    "
   ]
  },
  {
   "cell_type": "code",
   "execution_count": 13,
   "metadata": {
    "collapsed": false
   },
   "outputs": [],
   "source": [
    "@touchphat.on_touch(\"A\")\n",
    "def dose_A(event):\n",
    "    print event.name\n",
    "    global target_weight\n",
    "    \n",
    "    target_weight=10\n",
    "    time.sleep(0.1)\n",
    "    touchphat.led_on(\"A\")\n",
    "    touchphat.led_off(\"B\")\n",
    "    touchphat.led_off(\"C\")\n",
    "    touchphat.led_off(\"D\")\n",
    "\n",
    "@touchphat.on_release(\"A\")\n",
    "def dose_A_release(event):\n",
    "    touchphat.led_on(\"A\")"
   ]
  },
  {
   "cell_type": "code",
   "execution_count": null,
   "metadata": {
    "collapsed": false
   },
   "outputs": [],
   "source": [
    "\n",
    "\n",
    "    "
   ]
  },
  {
   "cell_type": "code",
   "execution_count": 14,
   "metadata": {
    "collapsed": true
   },
   "outputs": [],
   "source": [
    "@touchphat.on_touch(\"B\")\n",
    "def dose_B(event):\n",
    "    print event.name\n",
    "    global target_weight\n",
    "    \n",
    "    target_weight=20\n",
    "    time.sleep(0.1)\n",
    "    touchphat.led_on(\"B\")\n",
    "    touchphat.led_off(\"A\")\n",
    "    touchphat.led_off(\"C\")\n",
    "    touchphat.led_off(\"D\")\n",
    "\n",
    "@touchphat.on_release(\"B\")\n",
    "def dose_B_release(event):\n",
    "    touchphat.led_on(\"B\")"
   ]
  },
  {
   "cell_type": "code",
   "execution_count": 15,
   "metadata": {
    "collapsed": true
   },
   "outputs": [],
   "source": [
    "@touchphat.on_touch(\"C\")\n",
    "def dose_C(event):\n",
    "    print event.name\n",
    "    global target_weight\n",
    "    \n",
    "    target_weight=100\n",
    "    time.sleep(0.1)\n",
    "    touchphat.led_on(\"C\")\n",
    "    touchphat.led_off(\"A\")\n",
    "    touchphat.led_off(\"B\")\n",
    "    touchphat.led_off(\"D\")\n",
    "\n",
    "@touchphat.on_release(\"C\")\n",
    "def dose_C_release(event):\n",
    "    touchphat.led_on(\"C\")"
   ]
  },
  {
   "cell_type": "code",
   "execution_count": 16,
   "metadata": {
    "collapsed": false
   },
   "outputs": [],
   "source": [
    "@touchphat.on_touch(\"D\")\n",
    "def dose_D(event):\n",
    "    print event.name\n",
    "    global target_weight\n",
    "    \n",
    "    target_weight=5000\n",
    "    time.sleep(0.1)\n",
    "    touchphat.led_on(\"D\")\n",
    "    touchphat.led_off(\"A\")\n",
    "    touchphat.led_off(\"B\")\n",
    "    touchphat.led_off(\"C\")\n",
    "\n",
    "@touchphat.on_release(\"D\")\n",
    "def dose_D_release(event):\n",
    "    touchphat.led_on(\"D\")"
   ]
  },
  {
   "cell_type": "code",
   "execution_count": 17,
   "metadata": {
    "collapsed": false
   },
   "outputs": [
    {
     "data": {
      "text/plain": [
       "0L"
      ]
     },
     "execution_count": 17,
     "metadata": {},
     "output_type": "execute_result"
    }
   ],
   "source": [
    "pi.set_servo_pulsewidth(GPIO_PIN, 1490)"
   ]
  },
  {
   "cell_type": "code",
   "execution_count": 20,
   "metadata": {
    "collapsed": false
   },
   "outputs": [
    {
     "name": "stdout",
     "output_type": "stream",
     "text": [
      "Enter 10\n",
      "release start\n"
     ]
    },
    {
     "name": "stderr",
     "output_type": "stream",
     "text": [
      "INFO:root:Scale Ready!\n"
     ]
    },
    {
     "name": "stdout",
     "output_type": "stream",
     "text": [
      "START\n",
      "Enter 10\n",
      "release start\n",
      "Scale not available\n",
      "Scale not available\n"
     ]
    },
    {
     "name": "stderr",
     "output_type": "stream",
     "text": [
      "Exception IOError: (32, 'Broken pipe') in <bound method Peripheral.__del__ of <bluepy.btle.Peripheral instance at 0xaf5fb260>> ignored\n",
      "Exception IOError: (32, 'Broken pipe') in <bound method Peripheral.__del__ of <bluepy.btle.Peripheral instance at 0xaf5fb738>>"
     ]
    },
    {
     "name": "stdout",
     "output_type": "stream",
     "text": [
      "Scale not available\n",
      "Scale not available\n"
     ]
    },
    {
     "name": "stderr",
     "output_type": "stream",
     "text": [
      " ignored\n",
      "Exception IOError: (32, 'Broken pipe') in <bound method Peripheral.__del__ of <bluepy.btle.Peripheral instance at 0xaf5fb670>> ignored\n",
      "Exception IOError"
     ]
    },
    {
     "name": "stdout",
     "output_type": "stream",
     "text": [
      "Scale not available\n",
      "Scale not available\n"
     ]
    },
    {
     "name": "stderr",
     "output_type": "stream",
     "text": [
      ": (32, 'Broken pipe') in <bound method Peripheral.__del__ of <bluepy.btle.Peripheral instance at 0xaf5fba80>> ignored\n",
      "Exception IOError: (32, 'Broken pipe') in <bound method Peripheral.__del__ of <bluepy.btle.Peripheral instance at 0xaf5fb760>> ignored\n",
      "Exception IOError: (32, 'Broken pipe') in <bound method Peripheral.__del__ of <bluepy.btle.Peripheral instance at 0xaf5fb918>> ignored\n",
      "Exception IOError: (32, 'Broken pipe') in <bound method Peripheral.__del__ of <bluepy.btle.Peripheral instance at 0xaf5fb6c0>> ignored\n",
      "Exception IOError: (32, 'Broken pipe') in <bound method Peripheral.__del__ of <bluepy.btle.Peripheral instance at 0xaf5fba80>> ignored\n"
     ]
    },
    {
     "name": "stdout",
     "output_type": "stream",
     "text": [
      "Scale not available\n",
      "Scale not available\n",
      "Scale not available\n"
     ]
    },
    {
     "name": "stderr",
     "output_type": "stream",
     "text": [
      "Exception IOError: (32, 'Broken pipe') in <bound method Peripheral.__del__ of <bluepy.btle.Peripheral instance at 0xaf5fb990>> ignored\n",
      "Exception IOError: (32, 'Broken pipe') in <bound method Peripheral.__del__ of <bluepy.btle.Peripheral instance at 0xaf5fbc88>> ignored\n"
     ]
    },
    {
     "name": "stdout",
     "output_type": "stream",
     "text": [
      "Scale not available\n",
      "Scale not available\n"
     ]
    },
    {
     "name": "stderr",
     "output_type": "stream",
     "text": [
      "Exception IOError: (32, 'Broken pipe') in <bound method Peripheral.__del__ of <bluepy.btle.Peripheral instance at 0xaf5fbbe8>> ignored\n",
      "Exception IOError: (32, 'Broken pipe') in <bound method Peripheral.__del__ of <bluepy.btle.Peripheral instance at 0xaf5fbb48>> ignored\n"
     ]
    },
    {
     "name": "stdout",
     "output_type": "stream",
     "text": [
      "Scale not available\n",
      "Scale not available\n"
     ]
    },
    {
     "name": "stderr",
     "output_type": "stream",
     "text": [
      "Exception IOError: (32, 'Broken pipe') in <bound method Peripheral.__del__ of <bluepy.btle.Peripheral instance at 0xaf5fbbe8>> ignored\n"
     ]
    },
    {
     "name": "stdout",
     "output_type": "stream",
     "text": [
      "Scale not available\n"
     ]
    },
    {
     "name": "stderr",
     "output_type": "stream",
     "text": [
      "Exception IOError: (32, 'Broken pipe') in <bound method Peripheral.__del__ of <bluepy.btle.Peripheral instance at 0xaf5fbe68>> ignored\n",
      "Exception IOError: (32, 'Broken pipe') in <bound method Peripheral.__del__ of <bluepy.btle.Peripheral instance at 0xaf5fbd78>> ignored\n"
     ]
    },
    {
     "name": "stdout",
     "output_type": "stream",
     "text": [
      "Scale not available\n",
      "Scale not available\n",
      "Scale not available\n"
     ]
    },
    {
     "name": "stderr",
     "output_type": "stream",
     "text": [
      "Exception IOError: (32, 'Broken pipe') in <bound method Peripheral.__del__ of <bluepy.btle.Peripheral instance at 0xaf5fb710>> ignored\n",
      "Exception IOError: (32, 'Broken pipe') in "
     ]
    },
    {
     "name": "stdout",
     "output_type": "stream",
     "text": [
      "Scale not available\n",
      "Scale not available\n"
     ]
    },
    {
     "name": "stderr",
     "output_type": "stream",
     "text": [
      "<bound method Peripheral.__del__ of <bluepy.btle.Peripheral instance at 0xaf5fbd78>> ignored\n",
      "Exception IOError: (32, 'Broken pipe') in <bound method Peripheral.__del__ of <bluepy.btle.Peripheral instance at 0xaf5fba80>> ignored\n",
      "Exception "
     ]
    },
    {
     "name": "stdout",
     "output_type": "stream",
     "text": [
      "Scale not available\n",
      "Scale not available\n",
      "Scale not available"
     ]
    },
    {
     "name": "stderr",
     "output_type": "stream",
     "text": [
      "IOError: (32, 'Broken pipe') in <bound method Peripheral.__del__ of <bluepy.btle.Peripheral instance at 0xaf5fb670>> ignored\n",
      "Exception IOError: (32, 'Broken pipe') in <bound method Peripheral.__del__ of <bluepy.btle.Peripheral instance at 0xaf5fbf58>> ignored\n",
      "Exception IOError: (32, 'Broken pipe') in <bound method Peripheral.__del__ of <bluepy.btle.Peripheral instance at 0xaf5fbe18>> ignored\n",
      "Exception IOError: (32, 'Broken pipe') in <bound method Peripheral.__del__ of <bluepy.btle.Peripheral instance at 0xaf5fbdc8>> ignored\n",
      "Exception IOError: (32, 'Broken pipe') in <bound method Peripheral.__del__ of <bluepy.btle.Peripheral instance at 0xaf5fbdf0>> ignored\n"
     ]
    },
    {
     "name": "stdout",
     "output_type": "stream",
     "text": [
      "\n",
      "Scale not available\n",
      "Scale not available\n"
     ]
    },
    {
     "name": "stderr",
     "output_type": "stream",
     "text": [
      "Exception IOError: (32, 'Broken pipe') in <bound method Peripheral.__del__ of <bluepy.btle.Peripheral instance at 0xaf5fb648>> ignored\n",
      "Exception IOError: (32, 'Broken pipe') in <bound method Peripheral.__del__ of <bluepy.btle.Peripheral instance at 0xaf5f9300>> ignored\n"
     ]
    },
    {
     "name": "stdout",
     "output_type": "stream",
     "text": [
      "Scale not available\n",
      "Scale not available\n"
     ]
    },
    {
     "name": "stderr",
     "output_type": "stream",
     "text": [
      "Exception IOError: (32, 'Broken pipe') in <bound method Peripheral.__del__ of <bluepy.btle.Peripheral instance at 0xaf5fbeb8>> ignored\n",
      "Exception IOError: (32, 'Broken pipe') in <bound method Peripheral.__del__ of <bluepy.btle.Peripheral instance at 0xaf5f9288>> ignored\n"
     ]
    },
    {
     "name": "stdout",
     "output_type": "stream",
     "text": [
      "Scale not available\n",
      "Scale not available\n"
     ]
    },
    {
     "name": "stderr",
     "output_type": "stream",
     "text": [
      "Exception IOError: (32, 'Broken pipe') in <bound method Peripheral.__del__ of <bluepy.btle.Peripheral instance at 0xaf5f9350>> ignored\n",
      "Exception IOError: (32, 'Broken pipe') in <bound method Peripheral.__del__ of <bluepy.btle.Peripheral instance at 0xaf5f9328>> ignored\n"
     ]
    },
    {
     "name": "stdout",
     "output_type": "stream",
     "text": [
      "Scale not available\n",
      "Scale not available\n"
     ]
    },
    {
     "name": "stderr",
     "output_type": "stream",
     "text": [
      "Exception IOError: (32, 'Broken pipe') in <bound method Peripheral.__del__ of <bluepy.btle.Peripheral instance at 0xaf5f9468>> ignored\n",
      "Exception IOError: (32, 'Broken pipe') in <bound method Peripheral.__del__ of <bluepy.btle.Peripheral instance at 0xaf5f9508>> ignored\n"
     ]
    },
    {
     "name": "stdout",
     "output_type": "stream",
     "text": [
      "Scale not available\n",
      "Scale not available\n"
     ]
    },
    {
     "name": "stderr",
     "output_type": "stream",
     "text": [
      "Exception IOError: (32, 'Broken pipe') in <bound method Peripheral.__del__ of <bluepy.btle.Peripheral instance at 0xaf5f9350>> ignored\n",
      "Exception IOError: (32, 'Broken pipe') in <bound method Peripheral.__del__ of <bluepy.btle.Peripheral instance at 0xaf5f9198>> ignored\n"
     ]
    },
    {
     "name": "stdout",
     "output_type": "stream",
     "text": [
      "Scale not available\n",
      "Scale not available\n"
     ]
    },
    {
     "name": "stderr",
     "output_type": "stream",
     "text": [
      "Exception IOError: (32, 'Broken pipe') in <bound method Peripheral.__del__ of <bluepy.btle.Peripheral instance at 0xaf5f9670>> ignored\n",
      "Exception IOError: (32, 'Broken pipe') in <bound method Peripheral.__del__ of <bluepy.btle.Peripheral instance at 0xaf5f9558>> ignored\n"
     ]
    },
    {
     "name": "stdout",
     "output_type": "stream",
     "text": [
      "Scale not available\n",
      "Scale not available\n"
     ]
    },
    {
     "name": "stderr",
     "output_type": "stream",
     "text": [
      "Exception IOError: (32, 'Broken pipe') in <bound method Peripheral.__del__ of <bluepy.btle.Peripheral instance at 0xaf5f9648>> ignored\n",
      "Exception IOError: (32, 'Broken pipe') in <bound method Peripheral.__del__ of <bluepy.btle.Peripheral instance at 0xaf5f9378>> ignored\n"
     ]
    },
    {
     "name": "stdout",
     "output_type": "stream",
     "text": [
      "Scale not available\n",
      "Scale not available\n"
     ]
    },
    {
     "name": "stderr",
     "output_type": "stream",
     "text": [
      "Exception IOError: (32, 'Broken pipe') in <bound method Peripheral.__del__ of <bluepy.btle.Peripheral instance at 0xaf5f9620>> ignored\n",
      "Exception IOError: (32, 'Broken pipe') in <bound method Peripheral.__del__ of <bluepy.btle.Peripheral instance at 0xaf5f9468>> ignored\n"
     ]
    },
    {
     "name": "stdout",
     "output_type": "stream",
     "text": [
      "Scale not available\n",
      "Scale not available\n"
     ]
    },
    {
     "name": "stderr",
     "output_type": "stream",
     "text": [
      "Exception IOError: (32, 'Broken pipe') in <bound method Peripheral.__del__ of <bluepy.btle.Peripheral instance at 0xaf5f9738>> ignored\n",
      "Exception IOError: (32, 'Broken pipe') in <bound method Peripheral.__del__ of <bluepy.btle.Peripheral instance at 0xaf5f95f8>> ignored\n"
     ]
    },
    {
     "name": "stdout",
     "output_type": "stream",
     "text": [
      "Scale not available\n",
      "Scale not available\n"
     ]
    },
    {
     "name": "stderr",
     "output_type": "stream",
     "text": [
      "Exception IOError: (32, 'Broken pipe') in <bound method Peripheral.__del__ of <bluepy.btle.Peripheral instance at 0xaf5f9260>> ignored\n",
      "Exception IOError: (32, 'Broken pipe') in <bound method Peripheral.__del__ of <bluepy.btle.Peripheral instance at 0xaf5f97d8>> ignored\n"
     ]
    },
    {
     "name": "stdout",
     "output_type": "stream",
     "text": [
      "Scale not available\n",
      "Scale not available\n"
     ]
    },
    {
     "name": "stderr",
     "output_type": "stream",
     "text": [
      "Exception IOError: (32, 'Broken pipe') in <bound method Peripheral.__del__ of <bluepy.btle.Peripheral instance at 0xaf5f9828>> ignored\n",
      "Exception "
     ]
    },
    {
     "name": "stdout",
     "output_type": "stream",
     "text": [
      "Scale not available\n"
     ]
    },
    {
     "name": "stderr",
     "output_type": "stream",
     "text": [
      "IOError: (32, 'Broken pipe') in <bound method Peripheral.__del__ of <bluepy.btle.Peripheral instance at 0xaf5f9468>> ignored\n",
      "Exception IOError: (32, 'Broken pipe') in <bound method Peripheral.__del__ of <bluepy.btle.Peripheral instance at 0xaf5f9828>> ignored\n"
     ]
    },
    {
     "name": "stdout",
     "output_type": "stream",
     "text": [
      "Scale not available\n",
      "Scale not available\n"
     ]
    },
    {
     "name": "stderr",
     "output_type": "stream",
     "text": [
      "INFO:root:Scale Ready!\n"
     ]
    },
    {
     "name": "stdout",
     "output_type": "stream",
     "text": [
      "B\n",
      "START\n",
      "Enter 20\n",
      "release start\n"
     ]
    },
    {
     "name": "stderr",
     "output_type": "stream",
     "text": [
      "Exception IOError: (32, 'Broken pipe') in <bound method Peripheral.__del__ of <bluepy.btle.Peripheral instance at 0xaf5f9558>> ignored\n"
     ]
    },
    {
     "name": "stdout",
     "output_type": "stream",
     "text": [
      "concurrent poll() invocation\n"
     ]
    },
    {
     "name": "stderr",
     "output_type": "stream",
     "text": [
      "ERROR:root:Internal Python error in the inspect module.\n",
      "Below is the traceback from this internal error.\n",
      "\n"
     ]
    },
    {
     "name": "stdout",
     "output_type": "stream",
     "text": [
      "Traceback (most recent call last):\n",
      "  File \"/usr/lib/python2.7/dist-packages/IPython/core/ultratb.py\", line 1132, in get_records\n",
      "    return _fixed_getinnerframes(etb, number_of_lines_of_context, tb_offset)\n"
     ]
    },
    {
     "name": "stderr",
     "output_type": "stream",
     "text": [
      "\n",
      "KeyboardInterrupt\n",
      "\n"
     ]
    }
   ],
   "source": [
    "stop_speed=1490\n",
    "dispense=False\n",
    "target_weight=10\n",
    "touchphat.led_on(\"A\")\n",
    "\n",
    "while True:\n",
    "    \n",
    "    if dispense:\n",
    "        \n",
    "\n",
    "        try:\n",
    "            scale=AcaiaScale(mac='00:1C:97:17:FD:97')\n",
    "            scale.connect()\n",
    "            time.sleep(0.5)\n",
    "            scale.tare()\n",
    "            time.sleep(0.5)\n",
    "        except:\n",
    "            print 'Scale not available'\n",
    "            touchphat.led_off(\"Enter\")\n",
    "            continue\n",
    "\n",
    "        current_weight=0.0\n",
    "\n",
    "        current_speeds_cw=[1100,1250,1400]\n",
    "        current_speeds_acw=[1800,1700,1550]\n",
    "\n",
    "        current_speeds=current_speeds_cw\n",
    "\n",
    "        direction=1\n",
    "\n",
    "        stop_speed=1490\n",
    "        current_weight=0.0\n",
    "\n",
    "        steps_per_direction=15\n",
    "        n_steps=0\n",
    "\n",
    "        tolerance=0.15\n",
    "\n",
    "\n",
    "        print 'START'   \n",
    "        try:\n",
    "            while current_weight<(target_weight-tolerance) and dispense and scale.device:\n",
    "                    \n",
    "                if scale.device.waitForNotifications(1.0):\n",
    "                    n_steps+=1\n",
    "                    #current_weight=scale.weight\n",
    "\n",
    "                    if current_weight<target_weight-2:\n",
    "                        pi.set_servo_pulsewidth(GPIO_PIN, current_speeds[0])\n",
    "                    elif current_weight<=target_weight-1:\n",
    "                        pi.set_servo_pulsewidth(GPIO_PIN, current_speeds[1])\n",
    "                    else:\n",
    "                        pi.set_servo_pulsewidth(GPIO_PIN, current_speeds[2])\n",
    "\n",
    "\n",
    "                if n_steps==steps_per_direction:\n",
    "                    #print current_weight,direction\n",
    "                    if direction==1:\n",
    "                        current_speeds=current_speeds_acw\n",
    "                    else:\n",
    "                        current_speeds=current_speeds_cw\n",
    "\n",
    "                    direction=direction*-1\n",
    "                    n_steps=0\n",
    "\n",
    "                time.sleep(0.05)\n",
    "                current_weight=scale.weight\n",
    "\n",
    "\n",
    "            pi.set_servo_pulsewidth(GPIO_PIN, stop_speed)  \n",
    "            dispense=False\n",
    "\n",
    "        except Exception as e:\n",
    "            print e\n",
    "            dispense=False\n",
    "\n",
    "        finally:\n",
    "            pi.set_servo_pulsewidth(GPIO_PIN, stop_speed)  \n",
    "            touchphat.led_off(\"Enter\")\n",
    "            dispense=False\n",
    "    else:\n",
    "        time.sleep(0.2)\n",
    "        \n",
    "        \n",
    "        "
   ]
  },
  {
   "cell_type": "code",
   "execution_count": null,
   "metadata": {
    "collapsed": false
   },
   "outputs": [],
   "source": [
    "scale.disconnectconnect()"
   ]
  },
  {
   "cell_type": "code",
   "execution_count": null,
   "metadata": {
    "collapsed": true
   },
   "outputs": [],
   "source": [
    "pi.stop()"
   ]
  },
  {
   "cell_type": "code",
   "execution_count": null,
   "metadata": {
    "collapsed": false
   },
   "outputs": [],
   "source": [
    "pi.set_servo_pulsewidth(GPIO_PIN, 1500)"
   ]
  },
  {
   "cell_type": "code",
   "execution_count": 3,
   "metadata": {
    "collapsed": false
   },
   "outputs": [],
   "source": [
    "import bluepy as bp"
   ]
  },
  {
   "cell_type": "code",
   "execution_count": 6,
   "metadata": {
    "collapsed": false
   },
   "outputs": [
    {
     "data": {
      "text/plain": [
       "'bluepy'"
      ]
     },
     "execution_count": 6,
     "metadata": {},
     "output_type": "execute_result"
    }
   ],
   "source": []
  },
  {
   "cell_type": "code",
   "execution_count": null,
   "metadata": {
    "collapsed": true
   },
   "outputs": [],
   "source": []
  }
 ],
 "metadata": {
  "kernelspec": {
   "display_name": "Python 2",
   "language": "python",
   "name": "python2"
  },
  "language_info": {
   "codemirror_mode": {
    "name": "ipython",
    "version": 2
   },
   "file_extension": ".py",
   "mimetype": "text/x-python",
   "name": "python",
   "nbconvert_exporter": "python",
   "pygments_lexer": "ipython2",
   "version": "2.7.13"
  }
 },
 "nbformat": 4,
 "nbformat_minor": 2
}
