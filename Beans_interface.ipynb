{
 "cells": [
  {
   "cell_type": "code",
   "execution_count": null,
   "metadata": {
    "collapsed": false
   },
   "outputs": [],
   "source": [
    "!sudo pigpiod"
   ]
  },
  {
   "cell_type": "code",
   "execution_count": 13,
   "metadata": {
    "collapsed": false
   },
   "outputs": [],
   "source": [
    "import sys\n",
    "import time\n",
    "import random\n",
    "import pigpio\n",
    "import numpy as np\n",
    "import touchphat\n",
    "from pyacaia import AcaiaScale\n",
    "\n",
    "GPIO_PIN=15\n",
    "\n",
    "MIN_WIDTH=1000\n",
    "MAX_WIDTH=2000\n",
    "\n",
    "\n",
    "pi = pigpio.pi()\n",
    "\n",
    "\n",
    "#cycle the leds\n",
    "for led in range(1,7):\n",
    "        touchphat.led_on(led)\n",
    "        time.sleep(0.25)\n",
    "        touchphat.led_off(led)\n",
    "\n",
    "\n"
   ]
  },
  {
   "cell_type": "code",
   "execution_count": 14,
   "metadata": {
    "collapsed": false
   },
   "outputs": [
    {
     "data": {
      "text/plain": [
       "0L"
      ]
     },
     "execution_count": 14,
     "metadata": {},
     "output_type": "execute_result"
    }
   ],
   "source": [
    " pi.set_servo_pulsewidth(GPIO_PIN, 1500)"
   ]
  },
  {
   "cell_type": "code",
   "execution_count": 15,
   "metadata": {
    "collapsed": false
   },
   "outputs": [],
   "source": [
    "\n",
    "    \n",
    "\n",
    "#scale.connect()\n",
    "    "
   ]
  },
  {
   "cell_type": "code",
   "execution_count": 16,
   "metadata": {
    "collapsed": false
   },
   "outputs": [],
   "source": [
    "# scale.tare()\n",
    "# #read and print the weight every 0.5 sec for 5 sec \n",
    "# for i in range(10):\n",
    "#     print scale.weight # this is the property we can use to read the weigth in realtime\n",
    "#     time.sleep(0.5)\n",
    "\n"
   ]
  },
  {
   "cell_type": "code",
   "execution_count": 17,
   "metadata": {
    "collapsed": false
   },
   "outputs": [],
   "source": [
    "@touchphat.on_touch(\"Enter\")\n",
    "def start(event):\n",
    "    \n",
    "    print event.name, target_weight\n",
    "    global dispense\n",
    "    dispense=True\n",
    "    touchphat.led_on(\"Enter\")\n",
    "   \n",
    "\n",
    "@touchphat.on_release(\"Enter\")\n",
    "def start_release(event):\n",
    "    print 'release start'\n",
    "    touchphat.led_off(\"Enter\")     \n",
    "    \n",
    "        "
   ]
  },
  {
   "cell_type": "code",
   "execution_count": null,
   "metadata": {
    "collapsed": true
   },
   "outputs": [],
   "source": []
  },
  {
   "cell_type": "code",
   "execution_count": null,
   "metadata": {
    "collapsed": true
   },
   "outputs": [],
   "source": []
  },
  {
   "cell_type": "code",
   "execution_count": 18,
   "metadata": {
    "collapsed": false
   },
   "outputs": [],
   "source": [
    "@touchphat.on_touch(\"Back\")\n",
    "def stop(event):\n",
    "    print event.name\n",
    "    global dispense\n",
    "    dispense=False\n",
    "\n",
    "\n",
    "    "
   ]
  },
  {
   "cell_type": "code",
   "execution_count": 19,
   "metadata": {
    "collapsed": false
   },
   "outputs": [],
   "source": [
    "@touchphat.on_touch(\"A\")\n",
    "def dose_A(event):\n",
    "    print event.name\n",
    "    global target_weight\n",
    "    \n",
    "    target_weight=10\n",
    "    time.sleep(0.1)\n",
    "    touchphat.led_on(\"A\")\n",
    "    touchphat.led_off(\"B\")\n",
    "    touchphat.led_off(\"C\")\n",
    "    touchphat.led_off(\"D\")\n",
    "\n",
    "@touchphat.on_release(\"A\")\n",
    "def dose_A_release(event):\n",
    "    touchphat.led_on(\"A\")"
   ]
  },
  {
   "cell_type": "code",
   "execution_count": null,
   "metadata": {
    "collapsed": false
   },
   "outputs": [],
   "source": [
    "\n",
    "\n",
    "    "
   ]
  },
  {
   "cell_type": "code",
   "execution_count": 20,
   "metadata": {
    "collapsed": true
   },
   "outputs": [],
   "source": [
    "@touchphat.on_touch(\"B\")\n",
    "def dose_B(event):\n",
    "    print event.name\n",
    "    global target_weight\n",
    "    \n",
    "    target_weight=20\n",
    "    time.sleep(0.1)\n",
    "    touchphat.led_on(\"B\")\n",
    "    touchphat.led_off(\"A\")\n",
    "    touchphat.led_off(\"C\")\n",
    "    touchphat.led_off(\"D\")\n",
    "\n",
    "@touchphat.on_release(\"B\")\n",
    "def dose_B_release(event):\n",
    "    touchphat.led_on(\"B\")"
   ]
  },
  {
   "cell_type": "code",
   "execution_count": 21,
   "metadata": {
    "collapsed": true
   },
   "outputs": [],
   "source": [
    "@touchphat.on_touch(\"C\")\n",
    "def dose_C(event):\n",
    "    print event.name\n",
    "    global target_weight\n",
    "    \n",
    "    target_weight=100\n",
    "    time.sleep(0.1)\n",
    "    touchphat.led_on(\"C\")\n",
    "    touchphat.led_off(\"A\")\n",
    "    touchphat.led_off(\"B\")\n",
    "    touchphat.led_off(\"D\")\n",
    "\n",
    "@touchphat.on_release(\"C\")\n",
    "def dose_C_release(event):\n",
    "    touchphat.led_on(\"C\")"
   ]
  },
  {
   "cell_type": "code",
   "execution_count": 22,
   "metadata": {
    "collapsed": false
   },
   "outputs": [],
   "source": [
    "@touchphat.on_touch(\"D\")\n",
    "def dose_D(event):\n",
    "    print event.name\n",
    "    global target_weight\n",
    "    \n",
    "    target_weight=5000\n",
    "    time.sleep(0.1)\n",
    "    touchphat.led_on(\"D\")\n",
    "    touchphat.led_off(\"A\")\n",
    "    touchphat.led_off(\"B\")\n",
    "    touchphat.led_off(\"C\")\n",
    "\n",
    "@touchphat.on_release(\"D\")\n",
    "def dose_D_release(event):\n",
    "    touchphat.led_on(\"D\")"
   ]
  },
  {
   "cell_type": "code",
   "execution_count": 23,
   "metadata": {
    "collapsed": false
   },
   "outputs": [
    {
     "data": {
      "text/plain": [
       "0L"
      ]
     },
     "execution_count": 23,
     "metadata": {},
     "output_type": "execute_result"
    }
   ],
   "source": [
    "pi.set_servo_pulsewidth(GPIO_PIN, 1490)"
   ]
  },
  {
   "cell_type": "code",
   "execution_count": 24,
   "metadata": {
    "collapsed": false
   },
   "outputs": [
    {
     "name": "stdout",
     "output_type": "stream",
     "text": [
      "Enter 10\n",
      "release start\n",
      "Scale not available\n",
      "Scale not available\n",
      "Scale not available\n",
      "Scale not available\n",
      "Scale not available\n",
      "Scale not available\n",
      "Scale not available\n",
      "Scale not available\n",
      "Scale not available\n",
      "Scale not available\n",
      "Scale not available\n",
      "Scale not available\n",
      "Scale not available\n",
      "Scale not available\n",
      "Scale not available\n",
      "Scale not available\n",
      "Scale not available\n",
      "Scale not available\n",
      "Scale not available\n",
      "Scale not available\n",
      "Scale not available\n",
      "Scale not available\n",
      "Scale not available\n",
      "Scale not available\n",
      "Scale not available\n",
      "Scale not available\n",
      "Scale not available\n",
      "Scale not available\n",
      "Scale not available\n",
      "Scale not available\n",
      "Scale not available\n",
      "Scale not available\n",
      "Scale not available\n",
      "Scale not available\n",
      "Scale not available\n",
      "Scale not available\n",
      "Scale not available\n",
      "Scale not available\n",
      "Scale not available\n",
      "Scale not available\n",
      "Scale not available\n",
      "Scale not available\n",
      "Scale not available\n",
      "Scale not available\n",
      "Scale not available\n",
      "Scale not available\n",
      "Scale not availableBack\n",
      "\n",
      "Scale not available\n"
     ]
    },
    {
     "name": "stderr",
     "output_type": "stream",
     "text": [
      "ERROR:root:Internal Python error in the inspect module.\n",
      "Below is the traceback from this internal error.\n",
      "\n",
      "INFO:root:\n",
      "Unfortunately, your original traceback can not be constructed.\n",
      "\n"
     ]
    },
    {
     "name": "stdout",
     "output_type": "stream",
     "text": [
      "Traceback (most recent call last):\n",
      "  File \"/usr/lib/python2.7/dist-packages/IPython/core/ultratb.py\", line 1132, in get_records\n",
      "    return _fixed_getinnerframes(etb, number_of_lines_of_context, tb_offset)\n",
      "  File \"/usr/lib/python2.7/dist-packages/IPython/core/ultratb.py\", line 313, in wrapped\n",
      "    return f(*args, **kwargs)\n",
      "  File \"/usr/lib/python2.7/dist-packages/IPython/core/ultratb.py\", line 370, in _fixed_getinnerframes\n",
      "    aux = traceback.extract_tb(etb)\n",
      "  File \"/usr/lib/python2.7/traceback.py\", line 100, in extract_tb\n",
      "    linecache.checkcache(filename)\n",
      "  File \"/usr/lib/python2.7/dist-packages/IPython/core/compilerop.py\", line 141, in check_linecache_ipython\n",
      "    linecache._checkcache_ori(*args)\n",
      "  File \"/usr/lib/python2.7/linecache.py\", line 64, in checkcache\n",
      "    stat = os.stat(fullname)\n",
      "KeyboardInterrupt\n"
     ]
    },
    {
     "name": "stderr",
     "output_type": "stream",
     "text": [
      "\n",
      "KeyboardInterrupt\n",
      "\n"
     ]
    }
   ],
   "source": [
    "stop_speed=1490\n",
    "dispense=False\n",
    "target_weight=10\n",
    "touchphat.led_on(\"A\")\n",
    "\n",
    "while True:\n",
    "    \n",
    "    if dispense:\n",
    "        \n",
    "\n",
    "        try:\n",
    "            scale=AcaiaScale(mac='00:1C:97:17:FD:97')\n",
    "            scale.connect()\n",
    "            time.sleep(0.5)\n",
    "            scale.tare()\n",
    "            time.sleep(0.5)\n",
    "        except:\n",
    "            print 'Scale not available'\n",
    "            touchphat.led_off(\"Enter\")\n",
    "            continue\n",
    "\n",
    "        current_weight=0.0\n",
    "\n",
    "        current_speeds_cw=[1100,1250,1400]\n",
    "        current_speeds_acw=[1800,1700,1550]\n",
    "\n",
    "        current_speeds=current_speeds_cw\n",
    "\n",
    "        direction=1\n",
    "\n",
    "        stop_speed=1490\n",
    "        current_weight=0.0\n",
    "\n",
    "        steps_per_direction=15\n",
    "        n_steps=0\n",
    "\n",
    "        tolerance=0.15\n",
    "\n",
    "\n",
    "        print 'START'   \n",
    "        try:\n",
    "            while current_weight<(target_weight-tolerance) and dispense and scale.device:\n",
    "                    \n",
    "                if scale.device.waitForNotifications(1.0):\n",
    "                    n_steps+=1\n",
    "                    #current_weight=scale.weight\n",
    "\n",
    "                    if current_weight<target_weight-2:\n",
    "                        pi.set_servo_pulsewidth(GPIO_PIN, current_speeds[0])\n",
    "                    elif current_weight<=target_weight-1:\n",
    "                        pi.set_servo_pulsewidth(GPIO_PIN, current_speeds[1])\n",
    "                    else:\n",
    "                        pi.set_servo_pulsewidth(GPIO_PIN, current_speeds[2])\n",
    "\n",
    "\n",
    "                if n_steps==steps_per_direction:\n",
    "                    #print current_weight,direction\n",
    "                    if direction==1:\n",
    "                        current_speeds=current_speeds_acw\n",
    "                    else:\n",
    "                        current_speeds=current_speeds_cw\n",
    "\n",
    "                    direction=direction*-1\n",
    "                    n_steps=0\n",
    "\n",
    "                time.sleep(0.05)\n",
    "                current_weight=scale.weight\n",
    "\n",
    "\n",
    "            pi.set_servo_pulsewidth(GPIO_PIN, stop_speed)  \n",
    "            dispense=False\n",
    "\n",
    "        except Exception as e:\n",
    "            print e\n",
    "            dispense=False\n",
    "\n",
    "        finally:\n",
    "            pi.set_servo_pulsewidth(GPIO_PIN, stop_speed)  \n",
    "            touchphat.led_off(\"Enter\")\n",
    "            dispense=False\n",
    "    else:\n",
    "        time.sleep(0.2)\n",
    "        \n",
    "        \n",
    "        "
   ]
  },
  {
   "cell_type": "code",
   "execution_count": null,
   "metadata": {
    "collapsed": false
   },
   "outputs": [],
   "source": [
    "scale.disconnectconnect()"
   ]
  },
  {
   "cell_type": "code",
   "execution_count": null,
   "metadata": {
    "collapsed": true
   },
   "outputs": [],
   "source": [
    "pi.stop()"
   ]
  },
  {
   "cell_type": "code",
   "execution_count": null,
   "metadata": {
    "collapsed": false
   },
   "outputs": [],
   "source": [
    "pi.set_servo_pulsewidth(GPIO_PIN, 1500)"
   ]
  },
  {
   "cell_type": "code",
   "execution_count": 3,
   "metadata": {
    "collapsed": false
   },
   "outputs": [],
   "source": [
    "import bluepy as bp"
   ]
  },
  {
   "cell_type": "code",
   "execution_count": 6,
   "metadata": {
    "collapsed": false
   },
   "outputs": [
    {
     "data": {
      "text/plain": [
       "'bluepy'"
      ]
     },
     "execution_count": 6,
     "metadata": {},
     "output_type": "execute_result"
    }
   ],
   "source": []
  },
  {
   "cell_type": "code",
   "execution_count": 25,
   "metadata": {
    "collapsed": true
   },
   "outputs": [],
   "source": [
    "scale=AcaiaScale(mac='00:1C:97:17:FD:97')"
   ]
  },
  {
   "cell_type": "code",
   "execution_count": 26,
   "metadata": {
    "collapsed": false
   },
   "outputs": [
    {
     "ename": "AttributeError",
     "evalue": "'module' object has no attribute 'monotonic'",
     "output_type": "error",
     "traceback": [
      "\u001b[0;31m---------------------------------------------------------------------------\u001b[0m",
      "\u001b[0;31mAttributeError\u001b[0m                            Traceback (most recent call last)",
      "\u001b[0;32m<ipython-input-26-1b5becd3a610>\u001b[0m in \u001b[0;36m<module>\u001b[0;34m()\u001b[0m\n\u001b[0;32m----> 1\u001b[0;31m \u001b[0mscale\u001b[0m\u001b[0;34m.\u001b[0m\u001b[0mconnect\u001b[0m\u001b[0;34m(\u001b[0m\u001b[0;34m)\u001b[0m\u001b[0;34m\u001b[0m\u001b[0m\n\u001b[0m",
      "\u001b[0;32m/usr/local/lib/python2.7/dist-packages/pyacaia/__init__.pyc\u001b[0m in \u001b[0;36mconnect\u001b[0;34m(self)\u001b[0m\n\u001b[1;32m    320\u001b[0m \u001b[0;34m\u001b[0m\u001b[0m\n\u001b[1;32m    321\u001b[0m         \u001b[0;32mif\u001b[0m \u001b[0mself\u001b[0m\u001b[0;34m.\u001b[0m\u001b[0mbackend\u001b[0m\u001b[0;34m==\u001b[0m\u001b[0;34m'bluepy'\u001b[0m\u001b[0;34m:\u001b[0m\u001b[0;34m\u001b[0m\u001b[0m\n\u001b[0;32m--> 322\u001b[0;31m             \u001b[0mself\u001b[0m\u001b[0;34m.\u001b[0m\u001b[0mdevice\u001b[0m\u001b[0;34m=\u001b[0m\u001b[0mself\u001b[0m\u001b[0;34m.\u001b[0m\u001b[0mbackend_class\u001b[0m\u001b[0;34m.\u001b[0m\u001b[0mPeripheral\u001b[0m\u001b[0;34m(\u001b[0m\u001b[0mself\u001b[0m\u001b[0;34m.\u001b[0m\u001b[0mmac\u001b[0m\u001b[0;34m,\u001b[0m \u001b[0maddrType\u001b[0m\u001b[0;34m=\u001b[0m\u001b[0mself\u001b[0m\u001b[0;34m.\u001b[0m\u001b[0mbackend_class\u001b[0m\u001b[0;34m.\u001b[0m\u001b[0mADDR_TYPE_PUBLIC\u001b[0m\u001b[0;34m)\u001b[0m\u001b[0;34m\u001b[0m\u001b[0m\n\u001b[0m\u001b[1;32m    323\u001b[0m             \u001b[0mself\u001b[0m\u001b[0;34m.\u001b[0m\u001b[0mdevice\u001b[0m\u001b[0;34m=\u001b[0m\u001b[0mself\u001b[0m\u001b[0;34m.\u001b[0m\u001b[0mdevice\u001b[0m\u001b[0;34m.\u001b[0m\u001b[0mwithDelegate\u001b[0m\u001b[0;34m(\u001b[0m\u001b[0mself\u001b[0m\u001b[0;34m)\u001b[0m\u001b[0;34m\u001b[0m\u001b[0m\n\u001b[1;32m    324\u001b[0m             \u001b[0mself\u001b[0m\u001b[0;34m.\u001b[0m\u001b[0mchar\u001b[0m\u001b[0;34m=\u001b[0m\u001b[0mself\u001b[0m\u001b[0;34m.\u001b[0m\u001b[0mdevice\u001b[0m\u001b[0;34m.\u001b[0m\u001b[0mgetCharacteristics\u001b[0m\u001b[0;34m(\u001b[0m\u001b[0muuid\u001b[0m\u001b[0;34m=\u001b[0m\u001b[0mself\u001b[0m\u001b[0;34m.\u001b[0m\u001b[0mchar_uuid\u001b[0m\u001b[0;34m)\u001b[0m\u001b[0;34m[\u001b[0m\u001b[0;36m0\u001b[0m\u001b[0;34m]\u001b[0m\u001b[0;34m\u001b[0m\u001b[0m\n",
      "\u001b[0;32m/usr/local/lib/python2.7/dist-packages/bluepy-1.3.0-py2.7.egg/bluepy/btle.py\u001b[0m in \u001b[0;36m__init__\u001b[0;34m(self, deviceAddr, addrType, iface)\u001b[0m\n\u001b[1;32m    414\u001b[0m             \u001b[0mself\u001b[0m\u001b[0;34m.\u001b[0m\u001b[0m_connect\u001b[0m\u001b[0;34m(\u001b[0m\u001b[0mdeviceAddr\u001b[0m\u001b[0;34m.\u001b[0m\u001b[0maddr\u001b[0m\u001b[0;34m,\u001b[0m \u001b[0mdeviceAddr\u001b[0m\u001b[0;34m.\u001b[0m\u001b[0maddrType\u001b[0m\u001b[0;34m,\u001b[0m \u001b[0mdeviceAddr\u001b[0m\u001b[0;34m.\u001b[0m\u001b[0miface\u001b[0m\u001b[0;34m)\u001b[0m\u001b[0;34m\u001b[0m\u001b[0m\n\u001b[1;32m    415\u001b[0m         \u001b[0;32melif\u001b[0m \u001b[0mdeviceAddr\u001b[0m \u001b[0;32mis\u001b[0m \u001b[0;32mnot\u001b[0m \u001b[0mNone\u001b[0m\u001b[0;34m:\u001b[0m\u001b[0;34m\u001b[0m\u001b[0m\n\u001b[0;32m--> 416\u001b[0;31m             \u001b[0mself\u001b[0m\u001b[0;34m.\u001b[0m\u001b[0m_connect\u001b[0m\u001b[0;34m(\u001b[0m\u001b[0mdeviceAddr\u001b[0m\u001b[0;34m,\u001b[0m \u001b[0maddrType\u001b[0m\u001b[0;34m,\u001b[0m \u001b[0miface\u001b[0m\u001b[0;34m)\u001b[0m\u001b[0;34m\u001b[0m\u001b[0m\n\u001b[0m\u001b[1;32m    417\u001b[0m \u001b[0;34m\u001b[0m\u001b[0m\n\u001b[1;32m    418\u001b[0m     \u001b[0;32mdef\u001b[0m \u001b[0msetDelegate\u001b[0m\u001b[0;34m(\u001b[0m\u001b[0mself\u001b[0m\u001b[0;34m,\u001b[0m \u001b[0mdelegate_\u001b[0m\u001b[0;34m)\u001b[0m\u001b[0;34m:\u001b[0m \u001b[0;31m# same as withDelegate(), deprecated\u001b[0m\u001b[0;34m\u001b[0m\u001b[0m\n",
      "\u001b[0;32m/usr/local/lib/python2.7/dist-packages/bluepy-1.3.0-py2.7.egg/bluepy/btle.py\u001b[0m in \u001b[0;36m_connect\u001b[0;34m(self, addr, addrType, iface)\u001b[0m\n\u001b[1;32m    471\u001b[0m         \u001b[0;32melse\u001b[0m\u001b[0;34m:\u001b[0m\u001b[0;34m\u001b[0m\u001b[0m\n\u001b[1;32m    472\u001b[0m             \u001b[0mself\u001b[0m\u001b[0;34m.\u001b[0m\u001b[0m_writeCmd\u001b[0m\u001b[0;34m(\u001b[0m\u001b[0;34m\"conn %s %s\\n\"\u001b[0m \u001b[0;34m%\u001b[0m \u001b[0;34m(\u001b[0m\u001b[0maddr\u001b[0m\u001b[0;34m,\u001b[0m \u001b[0maddrType\u001b[0m\u001b[0;34m)\u001b[0m\u001b[0;34m)\u001b[0m\u001b[0;34m\u001b[0m\u001b[0m\n\u001b[0;32m--> 473\u001b[0;31m         \u001b[0mrsp\u001b[0m \u001b[0;34m=\u001b[0m \u001b[0mself\u001b[0m\u001b[0;34m.\u001b[0m\u001b[0m_getResp\u001b[0m\u001b[0;34m(\u001b[0m\u001b[0;34m'stat'\u001b[0m\u001b[0;34m)\u001b[0m\u001b[0;34m\u001b[0m\u001b[0m\n\u001b[0m\u001b[1;32m    474\u001b[0m         \u001b[0;32mwhile\u001b[0m \u001b[0mrsp\u001b[0m\u001b[0;34m[\u001b[0m\u001b[0;34m'state'\u001b[0m\u001b[0;34m]\u001b[0m\u001b[0;34m[\u001b[0m\u001b[0;36m0\u001b[0m\u001b[0;34m]\u001b[0m \u001b[0;34m==\u001b[0m \u001b[0;34m'tryconn'\u001b[0m\u001b[0;34m:\u001b[0m\u001b[0;34m\u001b[0m\u001b[0m\n\u001b[1;32m    475\u001b[0m             \u001b[0mrsp\u001b[0m \u001b[0;34m=\u001b[0m \u001b[0mself\u001b[0m\u001b[0;34m.\u001b[0m\u001b[0m_getResp\u001b[0m\u001b[0;34m(\u001b[0m\u001b[0;34m'stat'\u001b[0m\u001b[0;34m)\u001b[0m\u001b[0;34m\u001b[0m\u001b[0m\n",
      "\u001b[0;32m/usr/local/lib/python2.7/dist-packages/bluepy-1.3.0-py2.7.egg/bluepy/btle.py\u001b[0m in \u001b[0;36m_getResp\u001b[0;34m(self, wantType, timeout)\u001b[0m\n\u001b[1;32m    434\u001b[0m         \u001b[0;32mif\u001b[0m \u001b[0misinstance\u001b[0m\u001b[0;34m(\u001b[0m\u001b[0mwantType\u001b[0m\u001b[0;34m,\u001b[0m \u001b[0mlist\u001b[0m\u001b[0;34m)\u001b[0m \u001b[0;32mis\u001b[0m \u001b[0;32mnot\u001b[0m \u001b[0mTrue\u001b[0m\u001b[0;34m:\u001b[0m\u001b[0;34m\u001b[0m\u001b[0m\n\u001b[1;32m    435\u001b[0m             \u001b[0mwantType\u001b[0m \u001b[0;34m=\u001b[0m \u001b[0;34m[\u001b[0m\u001b[0mwantType\u001b[0m\u001b[0;34m]\u001b[0m\u001b[0;34m\u001b[0m\u001b[0m\n\u001b[0;32m--> 436\u001b[0;31m         \u001b[0mlt\u001b[0m \u001b[0;34m=\u001b[0m \u001b[0mtime\u001b[0m\u001b[0;34m.\u001b[0m\u001b[0mmonotonic\u001b[0m\u001b[0;34m(\u001b[0m\u001b[0;34m)\u001b[0m\u001b[0;34m\u001b[0m\u001b[0m\n\u001b[0m\u001b[1;32m    437\u001b[0m         \u001b[0;32mwhile\u001b[0m \u001b[0;34m(\u001b[0m\u001b[0mtime\u001b[0m\u001b[0;34m.\u001b[0m\u001b[0mmonotonic\u001b[0m\u001b[0;34m(\u001b[0m\u001b[0;34m)\u001b[0m \u001b[0;34m-\u001b[0m \u001b[0mlt\u001b[0m\u001b[0;34m)\u001b[0m \u001b[0;34m<\u001b[0m \u001b[0mtout\u001b[0m\u001b[0;34m:\u001b[0m\u001b[0;34m\u001b[0m\u001b[0m\n\u001b[1;32m    438\u001b[0m             \u001b[0mDBG\u001b[0m\u001b[0;34m(\u001b[0m\u001b[0;34m\"...\"\u001b[0m\u001b[0;34m,\u001b[0m\u001b[0mrnd\u001b[0m\u001b[0;34m,\u001b[0m\u001b[0;34m\"...\"\u001b[0m\u001b[0;34m)\u001b[0m\u001b[0;34m\u001b[0m\u001b[0m\n",
      "\u001b[0;31mAttributeError\u001b[0m: 'module' object has no attribute 'monotonic'"
     ]
    }
   ],
   "source": [
    "scale.connect()"
   ]
  },
  {
   "cell_type": "code",
   "execution_count": null,
   "metadata": {
    "collapsed": true
   },
   "outputs": [],
   "source": []
  }
 ],
 "metadata": {
  "kernelspec": {
   "display_name": "Python 2",
   "language": "python",
   "name": "python2"
  },
  "language_info": {
   "codemirror_mode": {
    "name": "ipython",
    "version": 2
   },
   "file_extension": ".py",
   "mimetype": "text/x-python",
   "name": "python",
   "nbconvert_exporter": "python",
   "pygments_lexer": "ipython2",
   "version": "2.7.13"
  }
 },
 "nbformat": 4,
 "nbformat_minor": 2
}
